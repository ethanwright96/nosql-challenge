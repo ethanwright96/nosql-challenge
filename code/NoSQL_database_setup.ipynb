{
 "cells": [
  {
   "attachments": {},
   "cell_type": "markdown",
   "id": "9a57c4c6",
   "metadata": {},
   "source": [
    "# Eat Safe, Love"
   ]
  },
  {
   "attachments": {},
   "cell_type": "markdown",
   "id": "064ef857",
   "metadata": {},
   "source": [
    "## Part 1: Database and Jupyter Notebook Set Up"
   ]
  },
  {
   "attachments": {},
   "cell_type": "markdown",
   "id": "664e3c1f",
   "metadata": {},
   "source": [
    "Import the data provided in the `establishments.json` file from your Terminal. Name the database `uk_food` and the collection `establishments`.\n",
    "\n",
    "Within this markdown cell, copy the line of text you used to import the data from your Terminal. This way, future analysts will be able to repeat your process.\n",
    "\n",
    "e.g.: Import the dataset with:\n",
    "1. cd \"C:\\Users\\e.a.wright\\nosql-challenge\\Starter_Code\\Resources\"\n",
    "2. mongoimport --db uk_food --collection establishments --file establishments.json --jsonArray"
   ]
  },
  {
   "cell_type": "code",
   "execution_count": 134,
   "id": "3ecdd008",
   "metadata": {},
   "outputs": [],
   "source": [
    "# Import dependencies\n",
    "from pymongo import MongoClient\n",
    "from pprint import pprint\n",
    "import pandas as pd"
   ]
  },
  {
   "cell_type": "code",
   "execution_count": 135,
   "id": "59390c4a",
   "metadata": {},
   "outputs": [],
   "source": [
    "# Create an instance of MongoClient\n",
    "mongo = MongoClient(port=27017)"
   ]
  },
  {
   "cell_type": "code",
   "execution_count": 136,
   "id": "7f9ececa",
   "metadata": {},
   "outputs": [
    {
     "name": "stdout",
     "output_type": "stream",
     "text": [
      "['admin', 'autosaurus', 'classDB', 'config', 'fruits_db', 'gardenDB', 'local', 'met', 'petsitly_marketing', 'travel_db', 'uk_food']\n"
     ]
    }
   ],
   "source": [
    "# confirm that our new database was created\n",
    "print(mongo.list_database_names())"
   ]
  },
  {
   "cell_type": "code",
   "execution_count": 137,
   "id": "71e373c1",
   "metadata": {},
   "outputs": [],
   "source": [
    "# assign the uk_food database to a variable name\n",
    "db = mongo['uk_food']"
   ]
  },
  {
   "cell_type": "code",
   "execution_count": 138,
   "id": "ef1b89ed",
   "metadata": {},
   "outputs": [
    {
     "name": "stdout",
     "output_type": "stream",
     "text": [
      "['establishments']\n"
     ]
    }
   ],
   "source": [
    "# review the collections in our new database\n",
    "print(db.list_collection_names())"
   ]
  },
  {
   "cell_type": "code",
   "execution_count": 139,
   "id": "6a0d92df",
   "metadata": {},
   "outputs": [
    {
     "name": "stdout",
     "output_type": "stream",
     "text": [
      "{'AddressLine1': 'The Bay',\n",
      " 'AddressLine2': 'St Margarets Bay',\n",
      " 'AddressLine3': 'Kent',\n",
      " 'AddressLine4': '',\n",
      " 'BusinessName': 'Refreshment Kiosk',\n",
      " 'BusinessType': 'Restaurant/Cafe/Canteen',\n",
      " 'BusinessTypeID': 1,\n",
      " 'ChangesByServerID': 0,\n",
      " 'Distance': 4587.347174863443,\n",
      " 'FHRSID': 254719,\n",
      " 'LocalAuthorityBusinessID': 'PI/000069980',\n",
      " 'LocalAuthorityCode': '182',\n",
      " 'LocalAuthorityEmailAddress': 'publicprotection@dover.gov.uk',\n",
      " 'LocalAuthorityName': 'Dover',\n",
      " 'LocalAuthorityWebSite': 'http://www.dover.gov.uk/',\n",
      " 'NewRatingPending': False,\n",
      " 'Phone': '',\n",
      " 'PostCode': 'CT15 6DY',\n",
      " 'RatingDate': '2022-03-24T00:00:00',\n",
      " 'RatingKey': 'fhrs_5_en-gb',\n",
      " 'RatingValue': '5',\n",
      " 'RightToReply': '',\n",
      " 'SchemeType': 'FHRS',\n",
      " '_id': ObjectId('6499b61206aa30e49cba4d16'),\n",
      " 'geocode': {'latitude': '51.152225', 'longitude': '1.387974'},\n",
      " 'links': [{'href': 'https://api.ratings.food.gov.uk/establishments/254719',\n",
      "            'rel': 'self'}],\n",
      " 'meta': {'dataSource': None,\n",
      "          'extractDate': '0001-01-01T00:00:00',\n",
      "          'itemCount': 0,\n",
      "          'pageNumber': 0,\n",
      "          'pageSize': 0,\n",
      "          'returncode': None,\n",
      "          'totalCount': 0,\n",
      "          'totalPages': 0},\n",
      " 'scores': {'ConfidenceInManagement': 5, 'Hygiene': 0, 'Structural': 5}}\n"
     ]
    }
   ],
   "source": [
    "# review a document in the establishments collection\n",
    "pprint(db.establishments.find_one())"
   ]
  },
  {
   "cell_type": "code",
   "execution_count": 140,
   "id": "11c9f11b",
   "metadata": {},
   "outputs": [],
   "source": [
    "# assign the collection to a variable\n",
    "establishments = db['establishments']"
   ]
  },
  {
   "attachments": {},
   "cell_type": "markdown",
   "id": "d5671434",
   "metadata": {},
   "source": [
    "## Part 2: Update the Database"
   ]
  },
  {
   "attachments": {},
   "cell_type": "markdown",
   "id": "314bd884",
   "metadata": {},
   "source": [
    "1. An exciting new halal restaurant just opened in Greenwich, but hasn't been rated yet. The magazine has asked you to include it in your analysis. Add the following restaurant \"Penang Flavours\" to the database."
   ]
  },
  {
   "cell_type": "code",
   "execution_count": 141,
   "id": "c2da7648",
   "metadata": {},
   "outputs": [],
   "source": [
    "# Create a dictionary for the new restaurant data\n",
    "document = {\n",
    "    \"BusinessName\":\"Penang Flavours\",\n",
    "    \"BusinessType\":\"Restaurant/Cafe/Canteen\",\n",
    "    \"BusinessTypeID\":\"\",\n",
    "    \"AddressLine1\":\"Penang Flavours\",\n",
    "    \"AddressLine2\":\"146A Plumstead Rd\",\n",
    "    \"AddressLine3\":\"London\",\n",
    "    \"AddressLine4\":\"\",\n",
    "    \"PostCode\":\"SE18 7DY\",\n",
    "    \"Phone\":\"\",\n",
    "    \"LocalAuthorityCode\":\"511\",\n",
    "    \"LocalAuthorityName\":\"Greenwich\",\n",
    "    \"LocalAuthorityWebSite\":\"http://www.royalgreenwich.gov.uk\",\n",
    "    \"LocalAuthorityEmailAddress\":\"health@royalgreenwich.gov.uk\",\n",
    "    \"scores\":{\n",
    "        \"Hygiene\":\"\",\n",
    "        \"Structural\":\"\",\n",
    "        \"ConfidenceInManagement\":\"\"\n",
    "    },\n",
    "    \"SchemeType\":\"FHRS\",\n",
    "    \"geocode\":{\n",
    "        \"longitude\":\"0.08384000\",\n",
    "        \"latitude\":\"51.49014200\"\n",
    "    },\n",
    "    \"RightToReply\":\"\",\n",
    "    \"Distance\":4623.9723280747176,\n",
    "    \"NewRatingPending\":True\n",
    "}"
   ]
  },
  {
   "cell_type": "code",
   "execution_count": 142,
   "id": "a6e5cece",
   "metadata": {},
   "outputs": [],
   "source": [
    "# Insert the new restaurant into the collection\n",
    "result = establishments.insert_one(document)"
   ]
  },
  {
   "cell_type": "code",
   "execution_count": 143,
   "id": "63bb10f9",
   "metadata": {},
   "outputs": [
    {
     "name": "stdout",
     "output_type": "stream",
     "text": [
      "Document inserted successfully.\n"
     ]
    }
   ],
   "source": [
    "# Check that the new restaurant was inserted\n",
    "if result.inserted_id:\n",
    "    print(\"Document inserted successfully.\")\n",
    "else:\n",
    "    print(\"Failed to insert document.\")"
   ]
  },
  {
   "attachments": {},
   "cell_type": "markdown",
   "id": "0ef4395a",
   "metadata": {},
   "source": [
    "2. Find the BusinessTypeID for \"Restaurant/Cafe/Canteen\" and return only the `BusinessTypeID` and `BusinessType` fields."
   ]
  },
  {
   "cell_type": "code",
   "execution_count": 144,
   "id": "93c63829",
   "metadata": {},
   "outputs": [],
   "source": [
    "# Find the BusinessTypeID for \"Restaurant/Cafe/Canteen\" and return only the BusinessTypeID and BusinessType fields\n",
    "business_type_id = establishments.find_one({\"BusinessType\":\"Restaurant/Cafe/Canteen\"}, {\"BusinessTypeID\":1, \"BusinessType\":1, \"_id\":0})"
   ]
  },
  {
   "cell_type": "code",
   "execution_count": 145,
   "id": "e5c9efd2-0c5c-41e2-b2a9-32e25b87fd50",
   "metadata": {},
   "outputs": [
    {
     "data": {
      "text/plain": [
       "{'BusinessType': 'Restaurant/Cafe/Canteen', 'BusinessTypeID': 1}"
      ]
     },
     "execution_count": 145,
     "metadata": {},
     "output_type": "execute_result"
    }
   ],
   "source": [
    "business_type_id"
   ]
  },
  {
   "attachments": {},
   "cell_type": "markdown",
   "id": "4e570caf",
   "metadata": {},
   "source": [
    "3. Update the new restaurant with the `BusinessTypeID` you found."
   ]
  },
  {
   "cell_type": "code",
   "execution_count": 146,
   "id": "7f599f3d",
   "metadata": {},
   "outputs": [
    {
     "data": {
      "text/plain": [
       "<pymongo.results.UpdateResult at 0x1bfb3b10640>"
      ]
     },
     "execution_count": 146,
     "metadata": {},
     "output_type": "execute_result"
    }
   ],
   "source": [
    "# Update the new restaurant with the correct BusinessTypeID\n",
    "establishments.update_one({\"BusinessName\": \"Penang Flavours\"}, {\"$set\":{\"BusinessTypeID\":business_type_id[\"BusinessTypeID\"]}})"
   ]
  },
  {
   "cell_type": "code",
   "execution_count": 147,
   "id": "a6ad16f7",
   "metadata": {},
   "outputs": [
    {
     "data": {
      "text/plain": [
       "{'BusinessName': 'Penang Flavours',\n",
       " 'BusinessType': 'Restaurant/Cafe/Canteen',\n",
       " 'BusinessTypeID': 1}"
      ]
     },
     "execution_count": 147,
     "metadata": {},
     "output_type": "execute_result"
    }
   ],
   "source": [
    "# Confirm that the new restaurant was updated\n",
    "establishments.find_one({\"BusinessName\":\"Penang Flavours\"}, {\"BusinessName\":1,\"BusinessTypeID\":1, \"BusinessType\":1, \"_id\":0})"
   ]
  },
  {
   "attachments": {},
   "cell_type": "markdown",
   "id": "67281254",
   "metadata": {},
   "source": [
    "4. The magazine is not interested in any establishments in Dover, so check how many documents contain the Dover Local Authority. Then, remove any establishments within the Dover Local Authority from the database, and check the number of documents to ensure they were deleted."
   ]
  },
  {
   "cell_type": "code",
   "execution_count": 148,
   "id": "768474a6",
   "metadata": {},
   "outputs": [
    {
     "name": "stdout",
     "output_type": "stream",
     "text": [
      "There are 994 establishments in Dover.\n"
     ]
    }
   ],
   "source": [
    "# Find how many documents have LocalAuthorityName as \"Dover\"\n",
    "dover_count = establishments.count_documents({\"LocalAuthorityName\":\"Dover\"})\n",
    "print(f\"There are {dover_count} establishments in Dover.\")"
   ]
  },
  {
   "cell_type": "code",
   "execution_count": 149,
   "id": "a11d5f1b",
   "metadata": {},
   "outputs": [
    {
     "data": {
      "text/plain": [
       "994"
      ]
     },
     "execution_count": 149,
     "metadata": {},
     "output_type": "execute_result"
    }
   ],
   "source": [
    "# Delete all documents where LocalAuthorityName is \"Dover\"\n",
    "deleteDover = establishments.delete_many({\"LocalAuthorityName\":\"Dover\"})\n",
    "# Confirm that the documents were deleted\n",
    "deleteDover.deleted_count"
   ]
  },
  {
   "cell_type": "code",
   "execution_count": 150,
   "id": "2a51aba0",
   "metadata": {},
   "outputs": [
    {
     "name": "stdout",
     "output_type": "stream",
     "text": [
      "There are 0 documents remaining with the LocalAuthorityName \"Dover\"\n"
     ]
    }
   ],
   "source": [
    "# Check if any remaining documents include Dover\n",
    "filter = {\n",
    "    \"LocalAuthorityName\": \"Dover\"\n",
    "}\n",
    "\n",
    "# Retrieve a count of the documents abiding by the filter\n",
    "count = establishments.count_documents(filter)\n",
    "\n",
    "# Print the remaining document count in an f string\n",
    "print(f'There are {count} documents remaining with the LocalAuthorityName \"Dover\"')"
   ]
  },
  {
   "cell_type": "code",
   "execution_count": 151,
   "id": "8c356f7b",
   "metadata": {},
   "outputs": [
    {
     "data": {
      "text/plain": [
       "{'_id': ObjectId('6499b61206aa30e49cba4ffd'),\n",
       " 'FHRSID': 647177,\n",
       " 'ChangesByServerID': 0,\n",
       " 'LocalAuthorityBusinessID': 'PI/000041489',\n",
       " 'BusinessName': 'Wear Bay Bowls Club',\n",
       " 'BusinessType': 'Pub/bar/nightclub',\n",
       " 'BusinessTypeID': 7843,\n",
       " 'AddressLine1': 'Wear Bay Road',\n",
       " 'AddressLine2': 'Folkestone',\n",
       " 'AddressLine3': 'Kent',\n",
       " 'AddressLine4': '',\n",
       " 'PostCode': 'CT19 6PY',\n",
       " 'Phone': '',\n",
       " 'RatingValue': '4',\n",
       " 'RatingKey': 'fhrs_4_en-gb',\n",
       " 'RatingDate': '2014-03-31T00:00:00',\n",
       " 'LocalAuthorityCode': '188',\n",
       " 'LocalAuthorityName': 'Folkestone and Hythe',\n",
       " 'LocalAuthorityWebSite': 'http://www.folkestone-hythe.gov.uk',\n",
       " 'LocalAuthorityEmailAddress': 'foodteam@folkestone-hythe.gov.uk',\n",
       " 'scores': {'Hygiene': 5, 'Structural': 5, 'ConfidenceInManagement': 10},\n",
       " 'SchemeType': 'FHRS',\n",
       " 'geocode': {'longitude': '1.196408', 'latitude': '51.086058'},\n",
       " 'RightToReply': '',\n",
       " 'Distance': 4591.821311183521,\n",
       " 'NewRatingPending': False,\n",
       " 'meta': {'dataSource': None,\n",
       "  'extractDate': '0001-01-01T00:00:00',\n",
       "  'itemCount': 0,\n",
       "  'returncode': None,\n",
       "  'totalCount': 0,\n",
       "  'totalPages': 0,\n",
       "  'pageSize': 0,\n",
       "  'pageNumber': 0},\n",
       " 'links': [{'rel': 'self',\n",
       "   'href': 'https://api.ratings.food.gov.uk/establishments/647177'}]}"
      ]
     },
     "execution_count": 151,
     "metadata": {},
     "output_type": "execute_result"
    }
   ],
   "source": [
    "# Check that other documents remain with 'find_one'\n",
    "establishments.find_one()"
   ]
  },
  {
   "attachments": {},
   "cell_type": "markdown",
   "id": "e9f1662d",
   "metadata": {},
   "source": [
    "5. Some of the number values are stored as strings, when they should be stored as numbers."
   ]
  },
  {
   "attachments": {},
   "cell_type": "markdown",
   "id": "c46df2df",
   "metadata": {},
   "source": [
    "Use `update_many` to convert `latitude` and `longitude` to decimal numbers."
   ]
  },
  {
   "cell_type": "code",
   "execution_count": 152,
   "id": "3a3698b7",
   "metadata": {},
   "outputs": [
    {
     "name": "stdout",
     "output_type": "stream",
     "text": [
      "[{'AddressLine1': 'Wear Bay Road',\n",
      "  'AddressLine2': 'Folkestone',\n",
      "  'AddressLine3': 'Kent',\n",
      "  'AddressLine4': '',\n",
      "  'BusinessName': 'Wear Bay Bowls Club',\n",
      "  'BusinessType': 'Pub/bar/nightclub',\n",
      "  'BusinessTypeID': 7843,\n",
      "  'ChangesByServerID': 0,\n",
      "  'Distance': 4591.821311183521,\n",
      "  'FHRSID': 647177,\n",
      "  'LocalAuthorityBusinessID': 'PI/000041489',\n",
      "  'LocalAuthorityCode': '188',\n",
      "  'LocalAuthorityEmailAddress': 'foodteam@folkestone-hythe.gov.uk',\n",
      "  'LocalAuthorityName': 'Folkestone and Hythe',\n",
      "  'LocalAuthorityWebSite': 'http://www.folkestone-hythe.gov.uk',\n",
      "  'NewRatingPending': False,\n",
      "  'Phone': '',\n",
      "  'PostCode': 'CT19 6PY',\n",
      "  'RatingDate': '2014-03-31T00:00:00',\n",
      "  'RatingKey': 'fhrs_4_en-gb',\n",
      "  'RatingValue': '4',\n",
      "  'RightToReply': '',\n",
      "  'SchemeType': 'FHRS',\n",
      "  '_id': ObjectId('6499b61206aa30e49cba4ffd'),\n",
      "  'geocode': {'latitude': 51.086058, 'longitude': 1.196408},\n",
      "  'links': [{'href': 'https://api.ratings.food.gov.uk/establishments/647177',\n",
      "             'rel': 'self'}],\n",
      "  'meta': {'dataSource': None,\n",
      "           'extractDate': '0001-01-01T00:00:00',\n",
      "           'itemCount': 0,\n",
      "           'pageNumber': 0,\n",
      "           'pageSize': 0,\n",
      "           'returncode': None,\n",
      "           'totalCount': 0,\n",
      "           'totalPages': 0},\n",
      "  'scores': {'ConfidenceInManagement': 10, 'Hygiene': 5, 'Structural': 5}},\n",
      " {'AddressLine1': 'East Cliff Pavilion',\n",
      "  'AddressLine2': 'Wear Bay Road',\n",
      "  'AddressLine3': 'Folkestone',\n",
      "  'AddressLine4': 'Kent',\n",
      "  'BusinessName': 'The Pavilion',\n",
      "  'BusinessType': 'Restaurant/Cafe/Canteen',\n",
      "  'BusinessTypeID': 1,\n",
      "  'ChangesByServerID': 0,\n",
      "  'Distance': 4591.765489457773,\n",
      "  'FHRSID': 1043695,\n",
      "  'LocalAuthorityBusinessID': 'PI/000073616',\n",
      "  'LocalAuthorityCode': '188',\n",
      "  'LocalAuthorityEmailAddress': 'foodteam@folkestone-hythe.gov.uk',\n",
      "  'LocalAuthorityName': 'Folkestone and Hythe',\n",
      "  'LocalAuthorityWebSite': 'http://www.folkestone-hythe.gov.uk',\n",
      "  'NewRatingPending': False,\n",
      "  'Phone': '',\n",
      "  'PostCode': 'CT19 6BL',\n",
      "  'RatingDate': '2018-04-04T00:00:00',\n",
      "  'RatingKey': 'fhrs_5_en-gb',\n",
      "  'RatingValue': '5',\n",
      "  'RightToReply': '',\n",
      "  'SchemeType': 'FHRS',\n",
      "  '_id': ObjectId('6499b61206aa30e49cba4ffe'),\n",
      "  'geocode': {'latitude': 51.083812, 'longitude': 1.195625},\n",
      "  'links': [{'href': 'https://api.ratings.food.gov.uk/establishments/1043695',\n",
      "             'rel': 'self'}],\n",
      "  'meta': {'dataSource': None,\n",
      "           'extractDate': '0001-01-01T00:00:00',\n",
      "           'itemCount': 0,\n",
      "           'pageNumber': 0,\n",
      "           'pageSize': 0,\n",
      "           'returncode': None,\n",
      "           'totalCount': 0,\n",
      "           'totalPages': 0},\n",
      "  'scores': {'ConfidenceInManagement': 5, 'Hygiene': 5, 'Structural': 5}},\n",
      " {'AddressLine1': 'St Marys Church Of England Primary School',\n",
      "  'AddressLine2': 'Warren Road',\n",
      "  'AddressLine3': 'Folkestone',\n",
      "  'AddressLine4': 'Kent',\n",
      "  'BusinessName': 'St Marys COE (aided) Primary School',\n",
      "  'BusinessType': 'School/college/university',\n",
      "  'BusinessTypeID': 7845,\n",
      "  'ChangesByServerID': 0,\n",
      "  'Distance': 4591.871474174837,\n",
      "  'FHRSID': 289353,\n",
      "  'LocalAuthorityBusinessID': 'PI/000002468',\n",
      "  'LocalAuthorityCode': '188',\n",
      "  'LocalAuthorityEmailAddress': 'foodteam@folkestone-hythe.gov.uk',\n",
      "  'LocalAuthorityName': 'Folkestone and Hythe',\n",
      "  'LocalAuthorityWebSite': 'http://www.folkestone-hythe.gov.uk',\n",
      "  'NewRatingPending': False,\n",
      "  'Phone': '',\n",
      "  'PostCode': 'CT19 6QH',\n",
      "  'RatingDate': '2016-09-13T00:00:00',\n",
      "  'RatingKey': 'fhrs_5_en-gb',\n",
      "  'RatingValue': '5',\n",
      "  'RightToReply': '',\n",
      "  'SchemeType': 'FHRS',\n",
      "  '_id': ObjectId('6499b61206aa30e49cba4fff'),\n",
      "  'geocode': {'latitude': 51.085797, 'longitude': 1.194762},\n",
      "  'links': [{'href': 'https://api.ratings.food.gov.uk/establishments/289353',\n",
      "             'rel': 'self'}],\n",
      "  'meta': {'dataSource': None,\n",
      "           'extractDate': '0001-01-01T00:00:00',\n",
      "           'itemCount': 0,\n",
      "           'pageNumber': 0,\n",
      "           'pageSize': 0,\n",
      "           'returncode': None,\n",
      "           'totalCount': 0,\n",
      "           'totalPages': 0},\n",
      "  'scores': {'ConfidenceInManagement': 0, 'Hygiene': 0, 'Structural': 0}},\n",
      " {'AddressLine1': '23 The Stade',\n",
      "  'AddressLine2': 'Folkestone',\n",
      "  'AddressLine3': 'Kent',\n",
      "  'AddressLine4': '',\n",
      "  'BusinessName': 'The Ship',\n",
      "  'BusinessType': 'Pub/bar/nightclub',\n",
      "  'BusinessTypeID': 7843,\n",
      "  'ChangesByServerID': 0,\n",
      "  'Distance': 4591.912144538092,\n",
      "  'FHRSID': 289352,\n",
      "  'LocalAuthorityBusinessID': 'PI/000002460',\n",
      "  'LocalAuthorityCode': '188',\n",
      "  'LocalAuthorityEmailAddress': 'foodteam@folkestone-hythe.gov.uk',\n",
      "  'LocalAuthorityName': 'Folkestone and Hythe',\n",
      "  'LocalAuthorityWebSite': 'http://www.folkestone-hythe.gov.uk',\n",
      "  'NewRatingPending': False,\n",
      "  'Phone': '',\n",
      "  'PostCode': 'CT19 6AB',\n",
      "  'RatingDate': '2015-08-27T00:00:00',\n",
      "  'RatingKey': 'fhrs_5_en-gb',\n",
      "  'RatingValue': '5',\n",
      "  'RightToReply': '',\n",
      "  'SchemeType': 'FHRS',\n",
      "  '_id': ObjectId('6499b61206aa30e49cba5001'),\n",
      "  'geocode': {'latitude': 51.08084, 'longitude': 1.188537},\n",
      "  'links': [{'href': 'https://api.ratings.food.gov.uk/establishments/289352',\n",
      "             'rel': 'self'}],\n",
      "  'meta': {'dataSource': None,\n",
      "           'extractDate': '0001-01-01T00:00:00',\n",
      "           'itemCount': 0,\n",
      "           'pageNumber': 0,\n",
      "           'pageSize': 0,\n",
      "           'returncode': None,\n",
      "           'totalCount': 0,\n",
      "           'totalPages': 0},\n",
      "  'scores': {'ConfidenceInManagement': 5, 'Hygiene': 5, 'Structural': 5}},\n",
      " {'AddressLine1': '16 The Stade',\n",
      "  'AddressLine2': 'Folkestone',\n",
      "  'AddressLine3': 'Kent',\n",
      "  'AddressLine4': '',\n",
      "  'BusinessName': 'Mariner',\n",
      "  'BusinessType': 'Pub/bar/nightclub',\n",
      "  'BusinessTypeID': 7843,\n",
      "  'ChangesByServerID': 0,\n",
      "  'Distance': 4591.912144538092,\n",
      "  'FHRSID': 289560,\n",
      "  'LocalAuthorityBusinessID': 'PI/000039927',\n",
      "  'LocalAuthorityCode': '188',\n",
      "  'LocalAuthorityEmailAddress': 'foodteam@folkestone-hythe.gov.uk',\n",
      "  'LocalAuthorityName': 'Folkestone and Hythe',\n",
      "  'LocalAuthorityWebSite': 'http://www.folkestone-hythe.gov.uk',\n",
      "  'NewRatingPending': False,\n",
      "  'Phone': '',\n",
      "  'PostCode': 'CT19 6AB',\n",
      "  'RatingDate': '2019-03-19T00:00:00',\n",
      "  'RatingKey': 'fhrs_5_en-gb',\n",
      "  'RatingValue': '5',\n",
      "  'RightToReply': '',\n",
      "  'SchemeType': 'FHRS',\n",
      "  '_id': ObjectId('6499b61206aa30e49cba5002'),\n",
      "  'geocode': {'latitude': 51.08084, 'longitude': 1.188537},\n",
      "  'links': [{'href': 'https://api.ratings.food.gov.uk/establishments/289560',\n",
      "             'rel': 'self'}],\n",
      "  'meta': {'dataSource': None,\n",
      "           'extractDate': '0001-01-01T00:00:00',\n",
      "           'itemCount': 0,\n",
      "           'pageNumber': 0,\n",
      "           'pageSize': 0,\n",
      "           'returncode': None,\n",
      "           'totalCount': 0,\n",
      "           'totalPages': 0},\n",
      "  'scores': {'ConfidenceInManagement': 0, 'Hygiene': 0, 'Structural': 5}}]\n"
     ]
    }
   ],
   "source": [
    "# Convert geocode.longitude and geocode.latitude to doubles\n",
    "conversion_operation = [\n",
    "    {\n",
    "        '$set': {\n",
    "            'geocode.longitude': {\n",
    "                '$convert': {\n",
    "                    'input': '$geocode.longitude',\n",
    "                    'to': 'double',\n",
    "                    'onError': 0.0\n",
    "                }\n",
    "            },\n",
    "            'geocode.latitude': {\n",
    "                '$convert': {\n",
    "                    'input': '$geocode.latitude',\n",
    "                    'to': 'double',\n",
    "                    'onError': 0.0\n",
    "                }\n",
    "            }\n",
    "        }\n",
    "    }\n",
    "]\n",
    "# Update the documents using the conversion_operation\n",
    "result = establishments.update_many({}, conversion_operation)\n",
    "\n",
    "# Confirm the update by printing the first 5 documents\n",
    "pprint(list(establishments.find().limit(5)))"
   ]
  },
  {
   "attachments": {},
   "cell_type": "markdown",
   "id": "142e319c",
   "metadata": {},
   "source": [
    "Use `update_many` to convert `RatingValue` to integer numbers."
   ]
  },
  {
   "cell_type": "code",
   "execution_count": 153,
   "id": "0fafb05c",
   "metadata": {},
   "outputs": [
    {
     "name": "stdout",
     "output_type": "stream",
     "text": [
      "['0', '1', '2', '3', '4', '5', 'Awaiting Inspection', 'AwaitingInspection', 'AwaitingPublication', 'Exempt', 'Pass']\n"
     ]
    }
   ],
   "source": [
    "# Get the unique values in the RatingValue field from establishments\n",
    "ratings = establishments.distinct(\"RatingValue\")\n",
    "# Print the unique values\n",
    "print(ratings)"
   ]
  },
  {
   "cell_type": "code",
   "execution_count": 154,
   "id": "1e53a73e",
   "metadata": {},
   "outputs": [
    {
     "name": "stdout",
     "output_type": "stream",
     "text": [
      "There are now 4157 documents with a null RatingValue.\n"
     ]
    }
   ],
   "source": [
    "# Coerce the non-numeric values (including 0 because it is outside of the 1-5 range) in RatingValue to null\n",
    "\n",
    "# Create a list of numeric strings of the RatingValue field (1-5)\n",
    "numeric_ratings = ['1','2','3','4','5']\n",
    "# Set non 1-5 Rating Values to Null\n",
    "establishments.update_many({\"RatingValue\":{\"$nin\":numeric_ratings}}, {\"$set\":{\"RatingValue\":None}})\n",
    "\n",
    "# Query the database for documents with RatingValue of Null\n",
    "null_ratings = establishments.count_documents({\"RatingValue\":None})\n",
    "# Print the count of the documents with RatingValue of Null\n",
    "print(f'There are now {null_ratings} documents with a null RatingValue.')"
   ]
  },
  {
   "cell_type": "code",
   "execution_count": 158,
   "id": "e3d7ad46",
   "metadata": {},
   "outputs": [],
   "source": [
    "# Change the data type from String to Integer for RatingValue using update_many()\n",
    "conversion_operation = [\n",
    "    {\n",
    "        '$set': {\n",
    "            'RatingValue' : {\n",
    "                '$convert' : {\n",
    "                    'input' : '$RatingValue',\n",
    "                    'to' : 'int',\n",
    "                    'onError' : 0\n",
    "                }\n",
    "            }\n",
    "        }\n",
    "    }\n",
    "]\n",
    "# Update the documents using the conversion_operation\n",
    "result = establishments.update_many({}, conversion_operation)"
   ]
  },
  {
   "cell_type": "code",
   "execution_count": 160,
   "id": "0deacaf9",
   "metadata": {},
   "outputs": [
    {
     "name": "stdout",
     "output_type": "stream",
     "text": [
      "[{'AddressLine1': 'Wear Bay Road',\n",
      "  'AddressLine2': 'Folkestone',\n",
      "  'AddressLine3': 'Kent',\n",
      "  'AddressLine4': '',\n",
      "  'BusinessName': 'Wear Bay Bowls Club',\n",
      "  'BusinessType': 'Pub/bar/nightclub',\n",
      "  'BusinessTypeID': 7843,\n",
      "  'ChangesByServerID': 0,\n",
      "  'Distance': 4591.821311183521,\n",
      "  'FHRSID': 647177,\n",
      "  'LocalAuthorityBusinessID': 'PI/000041489',\n",
      "  'LocalAuthorityCode': '188',\n",
      "  'LocalAuthorityEmailAddress': 'foodteam@folkestone-hythe.gov.uk',\n",
      "  'LocalAuthorityName': 'Folkestone and Hythe',\n",
      "  'LocalAuthorityWebSite': 'http://www.folkestone-hythe.gov.uk',\n",
      "  'NewRatingPending': False,\n",
      "  'Phone': '',\n",
      "  'PostCode': 'CT19 6PY',\n",
      "  'RatingDate': '2014-03-31T00:00:00',\n",
      "  'RatingKey': 'fhrs_4_en-gb',\n",
      "  'RatingValue': 4,\n",
      "  'RightToReply': '',\n",
      "  'SchemeType': 'FHRS',\n",
      "  '_id': ObjectId('6499b61206aa30e49cba4ffd'),\n",
      "  'geocode': {'latitude': 51.086058, 'longitude': 1.196408},\n",
      "  'links': [{'href': 'https://api.ratings.food.gov.uk/establishments/647177',\n",
      "             'rel': 'self'}],\n",
      "  'meta': {'dataSource': None,\n",
      "           'extractDate': '0001-01-01T00:00:00',\n",
      "           'itemCount': 0,\n",
      "           'pageNumber': 0,\n",
      "           'pageSize': 0,\n",
      "           'returncode': None,\n",
      "           'totalCount': 0,\n",
      "           'totalPages': 0},\n",
      "  'scores': {'ConfidenceInManagement': 10, 'Hygiene': 5, 'Structural': 5}},\n",
      " {'AddressLine1': 'East Cliff Pavilion',\n",
      "  'AddressLine2': 'Wear Bay Road',\n",
      "  'AddressLine3': 'Folkestone',\n",
      "  'AddressLine4': 'Kent',\n",
      "  'BusinessName': 'The Pavilion',\n",
      "  'BusinessType': 'Restaurant/Cafe/Canteen',\n",
      "  'BusinessTypeID': 1,\n",
      "  'ChangesByServerID': 0,\n",
      "  'Distance': 4591.765489457773,\n",
      "  'FHRSID': 1043695,\n",
      "  'LocalAuthorityBusinessID': 'PI/000073616',\n",
      "  'LocalAuthorityCode': '188',\n",
      "  'LocalAuthorityEmailAddress': 'foodteam@folkestone-hythe.gov.uk',\n",
      "  'LocalAuthorityName': 'Folkestone and Hythe',\n",
      "  'LocalAuthorityWebSite': 'http://www.folkestone-hythe.gov.uk',\n",
      "  'NewRatingPending': False,\n",
      "  'Phone': '',\n",
      "  'PostCode': 'CT19 6BL',\n",
      "  'RatingDate': '2018-04-04T00:00:00',\n",
      "  'RatingKey': 'fhrs_5_en-gb',\n",
      "  'RatingValue': 5,\n",
      "  'RightToReply': '',\n",
      "  'SchemeType': 'FHRS',\n",
      "  '_id': ObjectId('6499b61206aa30e49cba4ffe'),\n",
      "  'geocode': {'latitude': 51.083812, 'longitude': 1.195625},\n",
      "  'links': [{'href': 'https://api.ratings.food.gov.uk/establishments/1043695',\n",
      "             'rel': 'self'}],\n",
      "  'meta': {'dataSource': None,\n",
      "           'extractDate': '0001-01-01T00:00:00',\n",
      "           'itemCount': 0,\n",
      "           'pageNumber': 0,\n",
      "           'pageSize': 0,\n",
      "           'returncode': None,\n",
      "           'totalCount': 0,\n",
      "           'totalPages': 0},\n",
      "  'scores': {'ConfidenceInManagement': 5, 'Hygiene': 5, 'Structural': 5}},\n",
      " {'AddressLine1': 'St Marys Church Of England Primary School',\n",
      "  'AddressLine2': 'Warren Road',\n",
      "  'AddressLine3': 'Folkestone',\n",
      "  'AddressLine4': 'Kent',\n",
      "  'BusinessName': 'St Marys COE (aided) Primary School',\n",
      "  'BusinessType': 'School/college/university',\n",
      "  'BusinessTypeID': 7845,\n",
      "  'ChangesByServerID': 0,\n",
      "  'Distance': 4591.871474174837,\n",
      "  'FHRSID': 289353,\n",
      "  'LocalAuthorityBusinessID': 'PI/000002468',\n",
      "  'LocalAuthorityCode': '188',\n",
      "  'LocalAuthorityEmailAddress': 'foodteam@folkestone-hythe.gov.uk',\n",
      "  'LocalAuthorityName': 'Folkestone and Hythe',\n",
      "  'LocalAuthorityWebSite': 'http://www.folkestone-hythe.gov.uk',\n",
      "  'NewRatingPending': False,\n",
      "  'Phone': '',\n",
      "  'PostCode': 'CT19 6QH',\n",
      "  'RatingDate': '2016-09-13T00:00:00',\n",
      "  'RatingKey': 'fhrs_5_en-gb',\n",
      "  'RatingValue': 5,\n",
      "  'RightToReply': '',\n",
      "  'SchemeType': 'FHRS',\n",
      "  '_id': ObjectId('6499b61206aa30e49cba4fff'),\n",
      "  'geocode': {'latitude': 51.085797, 'longitude': 1.194762},\n",
      "  'links': [{'href': 'https://api.ratings.food.gov.uk/establishments/289353',\n",
      "             'rel': 'self'}],\n",
      "  'meta': {'dataSource': None,\n",
      "           'extractDate': '0001-01-01T00:00:00',\n",
      "           'itemCount': 0,\n",
      "           'pageNumber': 0,\n",
      "           'pageSize': 0,\n",
      "           'returncode': None,\n",
      "           'totalCount': 0,\n",
      "           'totalPages': 0},\n",
      "  'scores': {'ConfidenceInManagement': 0, 'Hygiene': 0, 'Structural': 0}},\n",
      " {'AddressLine1': '23 The Stade',\n",
      "  'AddressLine2': 'Folkestone',\n",
      "  'AddressLine3': 'Kent',\n",
      "  'AddressLine4': '',\n",
      "  'BusinessName': 'The Ship',\n",
      "  'BusinessType': 'Pub/bar/nightclub',\n",
      "  'BusinessTypeID': 7843,\n",
      "  'ChangesByServerID': 0,\n",
      "  'Distance': 4591.912144538092,\n",
      "  'FHRSID': 289352,\n",
      "  'LocalAuthorityBusinessID': 'PI/000002460',\n",
      "  'LocalAuthorityCode': '188',\n",
      "  'LocalAuthorityEmailAddress': 'foodteam@folkestone-hythe.gov.uk',\n",
      "  'LocalAuthorityName': 'Folkestone and Hythe',\n",
      "  'LocalAuthorityWebSite': 'http://www.folkestone-hythe.gov.uk',\n",
      "  'NewRatingPending': False,\n",
      "  'Phone': '',\n",
      "  'PostCode': 'CT19 6AB',\n",
      "  'RatingDate': '2015-08-27T00:00:00',\n",
      "  'RatingKey': 'fhrs_5_en-gb',\n",
      "  'RatingValue': 5,\n",
      "  'RightToReply': '',\n",
      "  'SchemeType': 'FHRS',\n",
      "  '_id': ObjectId('6499b61206aa30e49cba5001'),\n",
      "  'geocode': {'latitude': 51.08084, 'longitude': 1.188537},\n",
      "  'links': [{'href': 'https://api.ratings.food.gov.uk/establishments/289352',\n",
      "             'rel': 'self'}],\n",
      "  'meta': {'dataSource': None,\n",
      "           'extractDate': '0001-01-01T00:00:00',\n",
      "           'itemCount': 0,\n",
      "           'pageNumber': 0,\n",
      "           'pageSize': 0,\n",
      "           'returncode': None,\n",
      "           'totalCount': 0,\n",
      "           'totalPages': 0},\n",
      "  'scores': {'ConfidenceInManagement': 5, 'Hygiene': 5, 'Structural': 5}},\n",
      " {'AddressLine1': '16 The Stade',\n",
      "  'AddressLine2': 'Folkestone',\n",
      "  'AddressLine3': 'Kent',\n",
      "  'AddressLine4': '',\n",
      "  'BusinessName': 'Mariner',\n",
      "  'BusinessType': 'Pub/bar/nightclub',\n",
      "  'BusinessTypeID': 7843,\n",
      "  'ChangesByServerID': 0,\n",
      "  'Distance': 4591.912144538092,\n",
      "  'FHRSID': 289560,\n",
      "  'LocalAuthorityBusinessID': 'PI/000039927',\n",
      "  'LocalAuthorityCode': '188',\n",
      "  'LocalAuthorityEmailAddress': 'foodteam@folkestone-hythe.gov.uk',\n",
      "  'LocalAuthorityName': 'Folkestone and Hythe',\n",
      "  'LocalAuthorityWebSite': 'http://www.folkestone-hythe.gov.uk',\n",
      "  'NewRatingPending': False,\n",
      "  'Phone': '',\n",
      "  'PostCode': 'CT19 6AB',\n",
      "  'RatingDate': '2019-03-19T00:00:00',\n",
      "  'RatingKey': 'fhrs_5_en-gb',\n",
      "  'RatingValue': 5,\n",
      "  'RightToReply': '',\n",
      "  'SchemeType': 'FHRS',\n",
      "  '_id': ObjectId('6499b61206aa30e49cba5002'),\n",
      "  'geocode': {'latitude': 51.08084, 'longitude': 1.188537},\n",
      "  'links': [{'href': 'https://api.ratings.food.gov.uk/establishments/289560',\n",
      "             'rel': 'self'}],\n",
      "  'meta': {'dataSource': None,\n",
      "           'extractDate': '0001-01-01T00:00:00',\n",
      "           'itemCount': 0,\n",
      "           'pageNumber': 0,\n",
      "           'pageSize': 0,\n",
      "           'returncode': None,\n",
      "           'totalCount': 0,\n",
      "           'totalPages': 0},\n",
      "  'scores': {'ConfidenceInManagement': 0, 'Hygiene': 0, 'Structural': 5}}]\n"
     ]
    }
   ],
   "source": [
    "# Confirm that RatingValue is now an integer by printing the first 5 documents\n",
    "pprint(list(establishments.find().limit(5)))"
   ]
  },
  {
   "cell_type": "code",
   "execution_count": 161,
   "id": "46b640dc",
   "metadata": {},
   "outputs": [],
   "source": [
    "# Close the connection to the database\n",
    "mongo.close()"
   ]
  },
  {
   "attachments": {},
   "cell_type": "markdown",
   "id": "56da26df",
   "metadata": {},
   "source": [
    "### The following code converts RatingValue dtype using a for loop instead of update_many()"
   ]
  },
  {
   "cell_type": "code",
   "execution_count": 156,
   "id": "92524ccc",
   "metadata": {},
   "outputs": [],
   "source": [
    "# # Change the data type from String to Integer for RatingValue\n",
    "# documents = establishments.find({\"RatingValue\": {\"$exists\": True}})\n",
    "# for doc in documents:\n",
    "#     rating_value = doc[\"RatingValue\"]\n",
    "#     if rating_value is not None:\n",
    "#         try:\n",
    "#             new_rating_value = int(rating_value)\n",
    "#             establishments.update_one({\"_id\": doc[\"_id\"]}, {\"$set\": {\"RatingValue\": new_rating_value}})\n",
    "#             print(f'Updated {doc[\"_id\"]} to {new_rating_value}.')\n",
    "#         except ValueError:\n",
    "#             print(f'Could not convert {rating_value} to an integer.')\n",
    "#     else:\n",
    "#         print('RatingValue is None')"
   ]
  }
 ],
 "metadata": {
  "kernelspec": {
   "display_name": "Python 3 (ipykernel)",
   "language": "python",
   "name": "python3"
  },
  "language_info": {
   "codemirror_mode": {
    "name": "ipython",
    "version": 3
   },
   "file_extension": ".py",
   "mimetype": "text/x-python",
   "name": "python",
   "nbconvert_exporter": "python",
   "pygments_lexer": "ipython3",
   "version": "3.11.3"
  }
 },
 "nbformat": 4,
 "nbformat_minor": 5
}
